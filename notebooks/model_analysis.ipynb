{
 "cells": [
  {
   "cell_type": "markdown",
   "id": "d5d635de",
   "metadata": {},
   "source": [
    "# Model-based Feature Engineering and Analysis"
   ]
  },
  {
   "cell_type": "markdown",
   "id": "603c24e7",
   "metadata": {},
   "source": [
    "We can use certain models like logistic regression (with and without regularization), decision trees and random forests to analyze which features are the most important"
   ]
  }
 ],
 "metadata": {
  "kernelspec": {
   "display_name": "R",
   "language": "R",
   "name": "ir"
  },
  "language_info": {
   "name": "R"
  }
 },
 "nbformat": 4,
 "nbformat_minor": 5
}
